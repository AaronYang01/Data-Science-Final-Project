{
  "cells": [
    {
      "cell_type": "markdown",
      "metadata": {
        "id": "ZgXaTtbkghyK"
      },
      "source": [
        "# **[CMPS 3160 Final Project](https://wenqiy26.github.io/)** \n",
        "## Name: Aaron Yang & Wendy Yang \n",
        "## Title:  Average SAT Scores Predictors for all 50 States"
      ]
    },
    {
      "cell_type": "code",
      "execution_count": null,
      "metadata": {
        "colab": {
          "base_uri": "https://localhost:8080/"
        },
        "id": "pFksfINArqS5",
        "outputId": "0645bf15-fbf3-4b47-ba85-6e08f012f82c"
      },
      "outputs": [
        {
          "output_type": "stream",
          "name": "stdout",
          "text": [
            "Drive already mounted at /content/drive; to attempt to forcibly remount, call drive.mount(\"/content/drive\", force_remount=True).\n"
          ]
        }
      ],
      "source": [
        "from google.colab import drive\n",
        "drive.mount('/content/drive')"
      ]
    },
    {
      "cell_type": "code",
      "execution_count": null,
      "metadata": {
        "colab": {
          "base_uri": "https://localhost:8080/"
        },
        "id": "a7jBVCJpYF5s",
        "outputId": "62c5b45a-224a-47bf-afee-9a881e1e8c0f"
      },
      "outputs": [
        {
          "output_type": "stream",
          "name": "stdout",
          "text": [
            "/bin/bash: line 1: cd: drive/MyDrive/Colab Notebooks/Project_folder: No such file or directory\n",
            "[NbConvertApp] Converting notebook Milestone1.ipynb to html\n",
            "[NbConvertApp] Writing 516128 bytes to Milestone1.html\n"
          ]
        },
        {
          "output_type": "execute_result",
          "data": {
            "text/plain": []
          },
          "metadata": {},
          "execution_count": 69
        }
      ],
      "source": [
        "%%shell\n",
        "\n",
        "cd drive/MyDrive/Colab\\ Notebooks/Project_folder\n",
        "\n",
        "jupyter nbconvert --to html Milestone1.ipynb\n"
      ]
    },
    {
      "cell_type": "code",
      "execution_count": null,
      "metadata": {
        "colab": {
          "base_uri": "https://localhost:8080/"
        },
        "id": "2FESeRGufwFs",
        "outputId": "d9768bcb-480a-4b14-a0a2-e2c312a3953b"
      },
      "outputs": [
        {
          "output_type": "stream",
          "name": "stdout",
          "text": [
            "Drive already mounted at /content/drive; to attempt to forcibly remount, call drive.mount(\"/content/drive\", force_remount=True).\n",
            "/content/drive/MyDrive/Colab Notebooks/Project_folder\n"
          ]
        }
      ],
      "source": [
        "from google.colab import drive\n",
        "drive.mount('/content/drive')\n",
        "%cd /content/drive/MyDrive/Colab Notebooks/Project_folder"
      ]
    },
    {
      "cell_type": "markdown",
      "metadata": {
        "id": "l5R7LOVrkLH4"
      },
      "source": [
        "# **Project Goals**\n",
        "The goal of this project is to investigate the correlation between average SAT score and different varaibles and see which variables are good indicators to predict average STA score for a state. Variables include economic distributions such as median household income and expenses, overall education level of a state, education cost of a state, etc.\n",
        "\n",
        "Our hypothesis is that the average SAT score has a positive correlation with the median household income. The average SAT score would also have a positive correlation with percentage of adults having high school diploma and percentage of adults having college degree. "
      ]
    },
    {
      "cell_type": "markdown",
      "metadata": {
        "id": "jK_c3wWJhQ71"
      },
      "source": [
        "# **Collaboration Plan**\n",
        "For the collaboration of the group, we start on it right after every Wednesday and Friday after Data Science class as a group time to meet, talk about next steps, and divide tasks. We will be working on smaller tasks individually and discuss our preogress together.  For what technologies we use, we use Google Collab and we share our codes through our repositories in GitHub in order to make changes to any sort of files or edits. Through this collaboration, we are able to make changes on our page individually. "
      ]
    },
    {
      "cell_type": "markdown",
      "metadata": {
        "id": "7Nh4Oodfl-Gr"
      },
      "source": [
        "# **ETL (Extraction, Transform, and Load)**"
      ]
    },
    {
      "cell_type": "markdown",
      "metadata": {
        "id": "ZT7dIDNjvxd4"
      },
      "source": [
        "For our analysis, we loaded one dataset that was taken from Cengage. From the data in [Cengage](https://www.cengage.com/cgi-wadsworth/course_products_wp.pl?fid=M20b&flag=student&product_isbn_issn=9780495109723&discipline_number=17). The data set is downloaded as a CSV file and we renamed it to MilestoneData.csv. Then, we uploaded the CSV file into the Google Drive and import it Google Collab. It displays the first two columns which is the state and region as categorical data, the rest would be quantitative. "
      ]
    },
    {
      "cell_type": "code",
      "execution_count": null,
      "metadata": {
        "colab": {
          "base_uri": "https://localhost:8080/",
          "height": 270
        },
        "id": "YbFi810RqQeR",
        "outputId": "eb46a7fb-d35c-4c7f-cac0-ea4352c690c2"
      },
      "outputs": [
        {
          "output_type": "execute_result",
          "data": {
            "text/plain": [
              "        state region         pop      area  density  metro  waste  energy  \\\n",
              "0     Alabama  South   4041000.0   52423.0    77.08   67.4   1.11   393.0   \n",
              "1      Alaska   West    550000.0  570374.0     0.96   41.1   0.91   991.0   \n",
              "2     Arizona   West   3665000.0  113642.0    32.25   79.0   0.79   258.0   \n",
              "3    Arkansas  South   2351000.0   52075.0    45.15   40.1   0.85   330.0   \n",
              "4  California   West  29800000.0  155973.0   190.80   95.7   1.51   246.0   \n",
              "\n",
              "   miles  toxic  green  house  senate  csat  vsat  msat  percent  expense  \\\n",
              "0   10.5  27.86  29.25   30.0    10.0   991   476   515        8     3627   \n",
              "1    7.2  37.41    NaN    0.0    20.0   920   439   481       41     8330   \n",
              "2    9.7  19.65  18.37   13.0    33.0   932   442   490       26     4309   \n",
              "3    8.9  24.60  26.04   25.0    37.0  1005   482   523        6     3700   \n",
              "4    8.7   3.26  15.65   50.0    47.0   897   415   482       47     4491   \n",
              "\n",
              "   income  high  college  \n",
              "0  27.498  66.9     15.7  \n",
              "1  48.254  86.6     23.0  \n",
              "2  32.093  78.7     20.3  \n",
              "3  24.643  66.3     13.3  \n",
              "4  41.716  76.2     23.4  "
            ],
            "text/html": [
              "\n",
              "  <div id=\"df-72861a86-59e7-4d1b-9b22-a423217c5a5e\">\n",
              "    <div class=\"colab-df-container\">\n",
              "      <div>\n",
              "<style scoped>\n",
              "    .dataframe tbody tr th:only-of-type {\n",
              "        vertical-align: middle;\n",
              "    }\n",
              "\n",
              "    .dataframe tbody tr th {\n",
              "        vertical-align: top;\n",
              "    }\n",
              "\n",
              "    .dataframe thead th {\n",
              "        text-align: right;\n",
              "    }\n",
              "</style>\n",
              "<table border=\"1\" class=\"dataframe\">\n",
              "  <thead>\n",
              "    <tr style=\"text-align: right;\">\n",
              "      <th></th>\n",
              "      <th>state</th>\n",
              "      <th>region</th>\n",
              "      <th>pop</th>\n",
              "      <th>area</th>\n",
              "      <th>density</th>\n",
              "      <th>metro</th>\n",
              "      <th>waste</th>\n",
              "      <th>energy</th>\n",
              "      <th>miles</th>\n",
              "      <th>toxic</th>\n",
              "      <th>green</th>\n",
              "      <th>house</th>\n",
              "      <th>senate</th>\n",
              "      <th>csat</th>\n",
              "      <th>vsat</th>\n",
              "      <th>msat</th>\n",
              "      <th>percent</th>\n",
              "      <th>expense</th>\n",
              "      <th>income</th>\n",
              "      <th>high</th>\n",
              "      <th>college</th>\n",
              "    </tr>\n",
              "  </thead>\n",
              "  <tbody>\n",
              "    <tr>\n",
              "      <th>0</th>\n",
              "      <td>Alabama</td>\n",
              "      <td>South</td>\n",
              "      <td>4041000.0</td>\n",
              "      <td>52423.0</td>\n",
              "      <td>77.08</td>\n",
              "      <td>67.4</td>\n",
              "      <td>1.11</td>\n",
              "      <td>393.0</td>\n",
              "      <td>10.5</td>\n",
              "      <td>27.86</td>\n",
              "      <td>29.25</td>\n",
              "      <td>30.0</td>\n",
              "      <td>10.0</td>\n",
              "      <td>991</td>\n",
              "      <td>476</td>\n",
              "      <td>515</td>\n",
              "      <td>8</td>\n",
              "      <td>3627</td>\n",
              "      <td>27.498</td>\n",
              "      <td>66.9</td>\n",
              "      <td>15.7</td>\n",
              "    </tr>\n",
              "    <tr>\n",
              "      <th>1</th>\n",
              "      <td>Alaska</td>\n",
              "      <td>West</td>\n",
              "      <td>550000.0</td>\n",
              "      <td>570374.0</td>\n",
              "      <td>0.96</td>\n",
              "      <td>41.1</td>\n",
              "      <td>0.91</td>\n",
              "      <td>991.0</td>\n",
              "      <td>7.2</td>\n",
              "      <td>37.41</td>\n",
              "      <td>NaN</td>\n",
              "      <td>0.0</td>\n",
              "      <td>20.0</td>\n",
              "      <td>920</td>\n",
              "      <td>439</td>\n",
              "      <td>481</td>\n",
              "      <td>41</td>\n",
              "      <td>8330</td>\n",
              "      <td>48.254</td>\n",
              "      <td>86.6</td>\n",
              "      <td>23.0</td>\n",
              "    </tr>\n",
              "    <tr>\n",
              "      <th>2</th>\n",
              "      <td>Arizona</td>\n",
              "      <td>West</td>\n",
              "      <td>3665000.0</td>\n",
              "      <td>113642.0</td>\n",
              "      <td>32.25</td>\n",
              "      <td>79.0</td>\n",
              "      <td>0.79</td>\n",
              "      <td>258.0</td>\n",
              "      <td>9.7</td>\n",
              "      <td>19.65</td>\n",
              "      <td>18.37</td>\n",
              "      <td>13.0</td>\n",
              "      <td>33.0</td>\n",
              "      <td>932</td>\n",
              "      <td>442</td>\n",
              "      <td>490</td>\n",
              "      <td>26</td>\n",
              "      <td>4309</td>\n",
              "      <td>32.093</td>\n",
              "      <td>78.7</td>\n",
              "      <td>20.3</td>\n",
              "    </tr>\n",
              "    <tr>\n",
              "      <th>3</th>\n",
              "      <td>Arkansas</td>\n",
              "      <td>South</td>\n",
              "      <td>2351000.0</td>\n",
              "      <td>52075.0</td>\n",
              "      <td>45.15</td>\n",
              "      <td>40.1</td>\n",
              "      <td>0.85</td>\n",
              "      <td>330.0</td>\n",
              "      <td>8.9</td>\n",
              "      <td>24.60</td>\n",
              "      <td>26.04</td>\n",
              "      <td>25.0</td>\n",
              "      <td>37.0</td>\n",
              "      <td>1005</td>\n",
              "      <td>482</td>\n",
              "      <td>523</td>\n",
              "      <td>6</td>\n",
              "      <td>3700</td>\n",
              "      <td>24.643</td>\n",
              "      <td>66.3</td>\n",
              "      <td>13.3</td>\n",
              "    </tr>\n",
              "    <tr>\n",
              "      <th>4</th>\n",
              "      <td>California</td>\n",
              "      <td>West</td>\n",
              "      <td>29800000.0</td>\n",
              "      <td>155973.0</td>\n",
              "      <td>190.80</td>\n",
              "      <td>95.7</td>\n",
              "      <td>1.51</td>\n",
              "      <td>246.0</td>\n",
              "      <td>8.7</td>\n",
              "      <td>3.26</td>\n",
              "      <td>15.65</td>\n",
              "      <td>50.0</td>\n",
              "      <td>47.0</td>\n",
              "      <td>897</td>\n",
              "      <td>415</td>\n",
              "      <td>482</td>\n",
              "      <td>47</td>\n",
              "      <td>4491</td>\n",
              "      <td>41.716</td>\n",
              "      <td>76.2</td>\n",
              "      <td>23.4</td>\n",
              "    </tr>\n",
              "  </tbody>\n",
              "</table>\n",
              "</div>\n",
              "      <button class=\"colab-df-convert\" onclick=\"convertToInteractive('df-72861a86-59e7-4d1b-9b22-a423217c5a5e')\"\n",
              "              title=\"Convert this dataframe to an interactive table.\"\n",
              "              style=\"display:none;\">\n",
              "        \n",
              "  <svg xmlns=\"http://www.w3.org/2000/svg\" height=\"24px\"viewBox=\"0 0 24 24\"\n",
              "       width=\"24px\">\n",
              "    <path d=\"M0 0h24v24H0V0z\" fill=\"none\"/>\n",
              "    <path d=\"M18.56 5.44l.94 2.06.94-2.06 2.06-.94-2.06-.94-.94-2.06-.94 2.06-2.06.94zm-11 1L8.5 8.5l.94-2.06 2.06-.94-2.06-.94L8.5 2.5l-.94 2.06-2.06.94zm10 10l.94 2.06.94-2.06 2.06-.94-2.06-.94-.94-2.06-.94 2.06-2.06.94z\"/><path d=\"M17.41 7.96l-1.37-1.37c-.4-.4-.92-.59-1.43-.59-.52 0-1.04.2-1.43.59L10.3 9.45l-7.72 7.72c-.78.78-.78 2.05 0 2.83L4 21.41c.39.39.9.59 1.41.59.51 0 1.02-.2 1.41-.59l7.78-7.78 2.81-2.81c.8-.78.8-2.07 0-2.86zM5.41 20L4 18.59l7.72-7.72 1.47 1.35L5.41 20z\"/>\n",
              "  </svg>\n",
              "      </button>\n",
              "      \n",
              "  <style>\n",
              "    .colab-df-container {\n",
              "      display:flex;\n",
              "      flex-wrap:wrap;\n",
              "      gap: 12px;\n",
              "    }\n",
              "\n",
              "    .colab-df-convert {\n",
              "      background-color: #E8F0FE;\n",
              "      border: none;\n",
              "      border-radius: 50%;\n",
              "      cursor: pointer;\n",
              "      display: none;\n",
              "      fill: #1967D2;\n",
              "      height: 32px;\n",
              "      padding: 0 0 0 0;\n",
              "      width: 32px;\n",
              "    }\n",
              "\n",
              "    .colab-df-convert:hover {\n",
              "      background-color: #E2EBFA;\n",
              "      box-shadow: 0px 1px 2px rgba(60, 64, 67, 0.3), 0px 1px 3px 1px rgba(60, 64, 67, 0.15);\n",
              "      fill: #174EA6;\n",
              "    }\n",
              "\n",
              "    [theme=dark] .colab-df-convert {\n",
              "      background-color: #3B4455;\n",
              "      fill: #D2E3FC;\n",
              "    }\n",
              "\n",
              "    [theme=dark] .colab-df-convert:hover {\n",
              "      background-color: #434B5C;\n",
              "      box-shadow: 0px 1px 3px 1px rgba(0, 0, 0, 0.15);\n",
              "      filter: drop-shadow(0px 1px 2px rgba(0, 0, 0, 0.3));\n",
              "      fill: #FFFFFF;\n",
              "    }\n",
              "  </style>\n",
              "\n",
              "      <script>\n",
              "        const buttonEl =\n",
              "          document.querySelector('#df-72861a86-59e7-4d1b-9b22-a423217c5a5e button.colab-df-convert');\n",
              "        buttonEl.style.display =\n",
              "          google.colab.kernel.accessAllowed ? 'block' : 'none';\n",
              "\n",
              "        async function convertToInteractive(key) {\n",
              "          const element = document.querySelector('#df-72861a86-59e7-4d1b-9b22-a423217c5a5e');\n",
              "          const dataTable =\n",
              "            await google.colab.kernel.invokeFunction('convertToInteractive',\n",
              "                                                     [key], {});\n",
              "          if (!dataTable) return;\n",
              "\n",
              "          const docLinkHtml = 'Like what you see? Visit the ' +\n",
              "            '<a target=\"_blank\" href=https://colab.research.google.com/notebooks/data_table.ipynb>data table notebook</a>'\n",
              "            + ' to learn more about interactive tables.';\n",
              "          element.innerHTML = '';\n",
              "          dataTable['output_type'] = 'display_data';\n",
              "          await google.colab.output.renderOutput(dataTable, element);\n",
              "          const docLink = document.createElement('div');\n",
              "          docLink.innerHTML = docLinkHtml;\n",
              "          element.appendChild(docLink);\n",
              "        }\n",
              "      </script>\n",
              "    </div>\n",
              "  </div>\n",
              "  "
            ]
          },
          "metadata": {},
          "execution_count": 45
        }
      ],
      "source": [
        "import pandas as pd\n",
        "import matplotlib.pyplot as plt\n",
        "import numpy as np\n",
        "pd.set_option(\"display.max_rows\", None, \"display.max_columns\", None)\n",
        "df = pd.read_csv('MilestoneData.csv')\n",
        "df.head()"
      ]
    },
    {
      "cell_type": "markdown",
      "metadata": {
        "id": "RgvG0288SvBv"
      },
      "source": [
        "# **SAT Data by Economic and Region Data**"
      ]
    },
    {
      "cell_type": "markdown",
      "metadata": {
        "id": "dZFzWXrGT1rE"
      },
      "source": [
        "There are many columns to this dataset that was not needed, so a majority of the columns that did not coorelate well with our data was disregarded and formed into a new dataset in order to make our observation easier. Now we are going to drop the unnecessary columns from this dataset to make our data more organized and readable. We will also neglect certain columns that do not pertain our dataset such as population, area, density, metro, waste, toxic, senate, energy, green, miles, and house. Then we will sort the index and values to find a correlation of SAT scores by various economic regions/state/ and income. Now, we only have 10 variables that we want to focus on: state, geographic region, mean composite SAT score, mean math SAT score, mean verbal SAT score, % HS graduates taking SAT, per pupil expenditures prim&sec, median household income ($1,000), % adults HS diploma, and % adults college degree. "
      ]
    },
    {
      "cell_type": "code",
      "execution_count": null,
      "metadata": {
        "colab": {
          "base_uri": "https://localhost:8080/",
          "height": 206
        },
        "id": "Cuuqpe6Yox4B",
        "outputId": "d48ca0ce-fc0a-43b3-babb-25f21af37323"
      },
      "outputs": [
        {
          "output_type": "execute_result",
          "data": {
            "text/plain": [
              "        state region  csat  vsat  msat  percent  expense  income  high  \\\n",
              "0     Alabama  South   991   476   515        8     3627  27.498  66.9   \n",
              "1      Alaska   West   920   439   481       41     8330  48.254  86.6   \n",
              "2     Arizona   West   932   442   490       26     4309  32.093  78.7   \n",
              "3    Arkansas  South  1005   482   523        6     3700  24.643  66.3   \n",
              "4  California   West   897   415   482       47     4491  41.716  76.2   \n",
              "\n",
              "   college  \n",
              "0     15.7  \n",
              "1     23.0  \n",
              "2     20.3  \n",
              "3     13.3  \n",
              "4     23.4  "
            ],
            "text/html": [
              "\n",
              "  <div id=\"df-fa1980ce-c642-4d77-a294-7c8ec572d278\">\n",
              "    <div class=\"colab-df-container\">\n",
              "      <div>\n",
              "<style scoped>\n",
              "    .dataframe tbody tr th:only-of-type {\n",
              "        vertical-align: middle;\n",
              "    }\n",
              "\n",
              "    .dataframe tbody tr th {\n",
              "        vertical-align: top;\n",
              "    }\n",
              "\n",
              "    .dataframe thead th {\n",
              "        text-align: right;\n",
              "    }\n",
              "</style>\n",
              "<table border=\"1\" class=\"dataframe\">\n",
              "  <thead>\n",
              "    <tr style=\"text-align: right;\">\n",
              "      <th></th>\n",
              "      <th>state</th>\n",
              "      <th>region</th>\n",
              "      <th>csat</th>\n",
              "      <th>vsat</th>\n",
              "      <th>msat</th>\n",
              "      <th>percent</th>\n",
              "      <th>expense</th>\n",
              "      <th>income</th>\n",
              "      <th>high</th>\n",
              "      <th>college</th>\n",
              "    </tr>\n",
              "  </thead>\n",
              "  <tbody>\n",
              "    <tr>\n",
              "      <th>0</th>\n",
              "      <td>Alabama</td>\n",
              "      <td>South</td>\n",
              "      <td>991</td>\n",
              "      <td>476</td>\n",
              "      <td>515</td>\n",
              "      <td>8</td>\n",
              "      <td>3627</td>\n",
              "      <td>27.498</td>\n",
              "      <td>66.9</td>\n",
              "      <td>15.7</td>\n",
              "    </tr>\n",
              "    <tr>\n",
              "      <th>1</th>\n",
              "      <td>Alaska</td>\n",
              "      <td>West</td>\n",
              "      <td>920</td>\n",
              "      <td>439</td>\n",
              "      <td>481</td>\n",
              "      <td>41</td>\n",
              "      <td>8330</td>\n",
              "      <td>48.254</td>\n",
              "      <td>86.6</td>\n",
              "      <td>23.0</td>\n",
              "    </tr>\n",
              "    <tr>\n",
              "      <th>2</th>\n",
              "      <td>Arizona</td>\n",
              "      <td>West</td>\n",
              "      <td>932</td>\n",
              "      <td>442</td>\n",
              "      <td>490</td>\n",
              "      <td>26</td>\n",
              "      <td>4309</td>\n",
              "      <td>32.093</td>\n",
              "      <td>78.7</td>\n",
              "      <td>20.3</td>\n",
              "    </tr>\n",
              "    <tr>\n",
              "      <th>3</th>\n",
              "      <td>Arkansas</td>\n",
              "      <td>South</td>\n",
              "      <td>1005</td>\n",
              "      <td>482</td>\n",
              "      <td>523</td>\n",
              "      <td>6</td>\n",
              "      <td>3700</td>\n",
              "      <td>24.643</td>\n",
              "      <td>66.3</td>\n",
              "      <td>13.3</td>\n",
              "    </tr>\n",
              "    <tr>\n",
              "      <th>4</th>\n",
              "      <td>California</td>\n",
              "      <td>West</td>\n",
              "      <td>897</td>\n",
              "      <td>415</td>\n",
              "      <td>482</td>\n",
              "      <td>47</td>\n",
              "      <td>4491</td>\n",
              "      <td>41.716</td>\n",
              "      <td>76.2</td>\n",
              "      <td>23.4</td>\n",
              "    </tr>\n",
              "  </tbody>\n",
              "</table>\n",
              "</div>\n",
              "      <button class=\"colab-df-convert\" onclick=\"convertToInteractive('df-fa1980ce-c642-4d77-a294-7c8ec572d278')\"\n",
              "              title=\"Convert this dataframe to an interactive table.\"\n",
              "              style=\"display:none;\">\n",
              "        \n",
              "  <svg xmlns=\"http://www.w3.org/2000/svg\" height=\"24px\"viewBox=\"0 0 24 24\"\n",
              "       width=\"24px\">\n",
              "    <path d=\"M0 0h24v24H0V0z\" fill=\"none\"/>\n",
              "    <path d=\"M18.56 5.44l.94 2.06.94-2.06 2.06-.94-2.06-.94-.94-2.06-.94 2.06-2.06.94zm-11 1L8.5 8.5l.94-2.06 2.06-.94-2.06-.94L8.5 2.5l-.94 2.06-2.06.94zm10 10l.94 2.06.94-2.06 2.06-.94-2.06-.94-.94-2.06-.94 2.06-2.06.94z\"/><path d=\"M17.41 7.96l-1.37-1.37c-.4-.4-.92-.59-1.43-.59-.52 0-1.04.2-1.43.59L10.3 9.45l-7.72 7.72c-.78.78-.78 2.05 0 2.83L4 21.41c.39.39.9.59 1.41.59.51 0 1.02-.2 1.41-.59l7.78-7.78 2.81-2.81c.8-.78.8-2.07 0-2.86zM5.41 20L4 18.59l7.72-7.72 1.47 1.35L5.41 20z\"/>\n",
              "  </svg>\n",
              "      </button>\n",
              "      \n",
              "  <style>\n",
              "    .colab-df-container {\n",
              "      display:flex;\n",
              "      flex-wrap:wrap;\n",
              "      gap: 12px;\n",
              "    }\n",
              "\n",
              "    .colab-df-convert {\n",
              "      background-color: #E8F0FE;\n",
              "      border: none;\n",
              "      border-radius: 50%;\n",
              "      cursor: pointer;\n",
              "      display: none;\n",
              "      fill: #1967D2;\n",
              "      height: 32px;\n",
              "      padding: 0 0 0 0;\n",
              "      width: 32px;\n",
              "    }\n",
              "\n",
              "    .colab-df-convert:hover {\n",
              "      background-color: #E2EBFA;\n",
              "      box-shadow: 0px 1px 2px rgba(60, 64, 67, 0.3), 0px 1px 3px 1px rgba(60, 64, 67, 0.15);\n",
              "      fill: #174EA6;\n",
              "    }\n",
              "\n",
              "    [theme=dark] .colab-df-convert {\n",
              "      background-color: #3B4455;\n",
              "      fill: #D2E3FC;\n",
              "    }\n",
              "\n",
              "    [theme=dark] .colab-df-convert:hover {\n",
              "      background-color: #434B5C;\n",
              "      box-shadow: 0px 1px 3px 1px rgba(0, 0, 0, 0.15);\n",
              "      filter: drop-shadow(0px 1px 2px rgba(0, 0, 0, 0.3));\n",
              "      fill: #FFFFFF;\n",
              "    }\n",
              "  </style>\n",
              "\n",
              "      <script>\n",
              "        const buttonEl =\n",
              "          document.querySelector('#df-fa1980ce-c642-4d77-a294-7c8ec572d278 button.colab-df-convert');\n",
              "        buttonEl.style.display =\n",
              "          google.colab.kernel.accessAllowed ? 'block' : 'none';\n",
              "\n",
              "        async function convertToInteractive(key) {\n",
              "          const element = document.querySelector('#df-fa1980ce-c642-4d77-a294-7c8ec572d278');\n",
              "          const dataTable =\n",
              "            await google.colab.kernel.invokeFunction('convertToInteractive',\n",
              "                                                     [key], {});\n",
              "          if (!dataTable) return;\n",
              "\n",
              "          const docLinkHtml = 'Like what you see? Visit the ' +\n",
              "            '<a target=\"_blank\" href=https://colab.research.google.com/notebooks/data_table.ipynb>data table notebook</a>'\n",
              "            + ' to learn more about interactive tables.';\n",
              "          element.innerHTML = '';\n",
              "          dataTable['output_type'] = 'display_data';\n",
              "          await google.colab.output.renderOutput(dataTable, element);\n",
              "          const docLink = document.createElement('div');\n",
              "          docLink.innerHTML = docLinkHtml;\n",
              "          element.appendChild(docLink);\n",
              "        }\n",
              "      </script>\n",
              "    </div>\n",
              "  </div>\n",
              "  "
            ]
          },
          "metadata": {},
          "execution_count": 46
        }
      ],
      "source": [
        "#Drops variables that we don't need\n",
        "df_drop=df.drop(labels=['pop', 'area','density','metro','waste','toxic','senate','energy','green','miles','house'], axis=1)\n",
        "df_drop.head()"
      ]
    },
    {
      "cell_type": "markdown",
      "metadata": {
        "id": "YlsvQT5_ddPm"
      },
      "source": [
        "We can see that state and region are categorical, while csat, vsat, msat, percent, expense, income, high, and college are all quantitative. \n",
        "The data set has a defult index. Our first step is to set states as the index. "
      ]
    },
    {
      "cell_type": "code",
      "execution_count": null,
      "metadata": {
        "colab": {
          "base_uri": "https://localhost:8080/",
          "height": 434
        },
        "id": "ALshtf6nwJEa",
        "outputId": "f1ad8f77-8c3b-4749-9095-c7ab7a03e965"
      },
      "outputs": [
        {
          "output_type": "display_data",
          "data": {
            "text/plain": [
              "state       object\n",
              "region      object\n",
              "csat         int64\n",
              "vsat         int64\n",
              "msat         int64\n",
              "percent      int64\n",
              "expense      int64\n",
              "income     float64\n",
              "high       float64\n",
              "college    float64\n",
              "dtype: object"
            ]
          },
          "metadata": {}
        },
        {
          "output_type": "execute_result",
          "data": {
            "text/plain": [
              "           region  csat  vsat  msat  percent  expense  income  high  college\n",
              "state                                                                       \n",
              "Alabama     South   991   476   515        8     3627  27.498  66.9     15.7\n",
              "Alaska       West   920   439   481       41     8330  48.254  86.6     23.0\n",
              "Arizona      West   932   442   490       26     4309  32.093  78.7     20.3\n",
              "Arkansas    South  1005   482   523        6     3700  24.643  66.3     13.3\n",
              "California   West   897   415   482       47     4491  41.716  76.2     23.4"
            ],
            "text/html": [
              "\n",
              "  <div id=\"df-334b5f63-7169-4f32-ae8f-5ff286350cb4\">\n",
              "    <div class=\"colab-df-container\">\n",
              "      <div>\n",
              "<style scoped>\n",
              "    .dataframe tbody tr th:only-of-type {\n",
              "        vertical-align: middle;\n",
              "    }\n",
              "\n",
              "    .dataframe tbody tr th {\n",
              "        vertical-align: top;\n",
              "    }\n",
              "\n",
              "    .dataframe thead th {\n",
              "        text-align: right;\n",
              "    }\n",
              "</style>\n",
              "<table border=\"1\" class=\"dataframe\">\n",
              "  <thead>\n",
              "    <tr style=\"text-align: right;\">\n",
              "      <th></th>\n",
              "      <th>region</th>\n",
              "      <th>csat</th>\n",
              "      <th>vsat</th>\n",
              "      <th>msat</th>\n",
              "      <th>percent</th>\n",
              "      <th>expense</th>\n",
              "      <th>income</th>\n",
              "      <th>high</th>\n",
              "      <th>college</th>\n",
              "    </tr>\n",
              "    <tr>\n",
              "      <th>state</th>\n",
              "      <th></th>\n",
              "      <th></th>\n",
              "      <th></th>\n",
              "      <th></th>\n",
              "      <th></th>\n",
              "      <th></th>\n",
              "      <th></th>\n",
              "      <th></th>\n",
              "      <th></th>\n",
              "    </tr>\n",
              "  </thead>\n",
              "  <tbody>\n",
              "    <tr>\n",
              "      <th>Alabama</th>\n",
              "      <td>South</td>\n",
              "      <td>991</td>\n",
              "      <td>476</td>\n",
              "      <td>515</td>\n",
              "      <td>8</td>\n",
              "      <td>3627</td>\n",
              "      <td>27.498</td>\n",
              "      <td>66.9</td>\n",
              "      <td>15.7</td>\n",
              "    </tr>\n",
              "    <tr>\n",
              "      <th>Alaska</th>\n",
              "      <td>West</td>\n",
              "      <td>920</td>\n",
              "      <td>439</td>\n",
              "      <td>481</td>\n",
              "      <td>41</td>\n",
              "      <td>8330</td>\n",
              "      <td>48.254</td>\n",
              "      <td>86.6</td>\n",
              "      <td>23.0</td>\n",
              "    </tr>\n",
              "    <tr>\n",
              "      <th>Arizona</th>\n",
              "      <td>West</td>\n",
              "      <td>932</td>\n",
              "      <td>442</td>\n",
              "      <td>490</td>\n",
              "      <td>26</td>\n",
              "      <td>4309</td>\n",
              "      <td>32.093</td>\n",
              "      <td>78.7</td>\n",
              "      <td>20.3</td>\n",
              "    </tr>\n",
              "    <tr>\n",
              "      <th>Arkansas</th>\n",
              "      <td>South</td>\n",
              "      <td>1005</td>\n",
              "      <td>482</td>\n",
              "      <td>523</td>\n",
              "      <td>6</td>\n",
              "      <td>3700</td>\n",
              "      <td>24.643</td>\n",
              "      <td>66.3</td>\n",
              "      <td>13.3</td>\n",
              "    </tr>\n",
              "    <tr>\n",
              "      <th>California</th>\n",
              "      <td>West</td>\n",
              "      <td>897</td>\n",
              "      <td>415</td>\n",
              "      <td>482</td>\n",
              "      <td>47</td>\n",
              "      <td>4491</td>\n",
              "      <td>41.716</td>\n",
              "      <td>76.2</td>\n",
              "      <td>23.4</td>\n",
              "    </tr>\n",
              "  </tbody>\n",
              "</table>\n",
              "</div>\n",
              "      <button class=\"colab-df-convert\" onclick=\"convertToInteractive('df-334b5f63-7169-4f32-ae8f-5ff286350cb4')\"\n",
              "              title=\"Convert this dataframe to an interactive table.\"\n",
              "              style=\"display:none;\">\n",
              "        \n",
              "  <svg xmlns=\"http://www.w3.org/2000/svg\" height=\"24px\"viewBox=\"0 0 24 24\"\n",
              "       width=\"24px\">\n",
              "    <path d=\"M0 0h24v24H0V0z\" fill=\"none\"/>\n",
              "    <path d=\"M18.56 5.44l.94 2.06.94-2.06 2.06-.94-2.06-.94-.94-2.06-.94 2.06-2.06.94zm-11 1L8.5 8.5l.94-2.06 2.06-.94-2.06-.94L8.5 2.5l-.94 2.06-2.06.94zm10 10l.94 2.06.94-2.06 2.06-.94-2.06-.94-.94-2.06-.94 2.06-2.06.94z\"/><path d=\"M17.41 7.96l-1.37-1.37c-.4-.4-.92-.59-1.43-.59-.52 0-1.04.2-1.43.59L10.3 9.45l-7.72 7.72c-.78.78-.78 2.05 0 2.83L4 21.41c.39.39.9.59 1.41.59.51 0 1.02-.2 1.41-.59l7.78-7.78 2.81-2.81c.8-.78.8-2.07 0-2.86zM5.41 20L4 18.59l7.72-7.72 1.47 1.35L5.41 20z\"/>\n",
              "  </svg>\n",
              "      </button>\n",
              "      \n",
              "  <style>\n",
              "    .colab-df-container {\n",
              "      display:flex;\n",
              "      flex-wrap:wrap;\n",
              "      gap: 12px;\n",
              "    }\n",
              "\n",
              "    .colab-df-convert {\n",
              "      background-color: #E8F0FE;\n",
              "      border: none;\n",
              "      border-radius: 50%;\n",
              "      cursor: pointer;\n",
              "      display: none;\n",
              "      fill: #1967D2;\n",
              "      height: 32px;\n",
              "      padding: 0 0 0 0;\n",
              "      width: 32px;\n",
              "    }\n",
              "\n",
              "    .colab-df-convert:hover {\n",
              "      background-color: #E2EBFA;\n",
              "      box-shadow: 0px 1px 2px rgba(60, 64, 67, 0.3), 0px 1px 3px 1px rgba(60, 64, 67, 0.15);\n",
              "      fill: #174EA6;\n",
              "    }\n",
              "\n",
              "    [theme=dark] .colab-df-convert {\n",
              "      background-color: #3B4455;\n",
              "      fill: #D2E3FC;\n",
              "    }\n",
              "\n",
              "    [theme=dark] .colab-df-convert:hover {\n",
              "      background-color: #434B5C;\n",
              "      box-shadow: 0px 1px 3px 1px rgba(0, 0, 0, 0.15);\n",
              "      filter: drop-shadow(0px 1px 2px rgba(0, 0, 0, 0.3));\n",
              "      fill: #FFFFFF;\n",
              "    }\n",
              "  </style>\n",
              "\n",
              "      <script>\n",
              "        const buttonEl =\n",
              "          document.querySelector('#df-334b5f63-7169-4f32-ae8f-5ff286350cb4 button.colab-df-convert');\n",
              "        buttonEl.style.display =\n",
              "          google.colab.kernel.accessAllowed ? 'block' : 'none';\n",
              "\n",
              "        async function convertToInteractive(key) {\n",
              "          const element = document.querySelector('#df-334b5f63-7169-4f32-ae8f-5ff286350cb4');\n",
              "          const dataTable =\n",
              "            await google.colab.kernel.invokeFunction('convertToInteractive',\n",
              "                                                     [key], {});\n",
              "          if (!dataTable) return;\n",
              "\n",
              "          const docLinkHtml = 'Like what you see? Visit the ' +\n",
              "            '<a target=\"_blank\" href=https://colab.research.google.com/notebooks/data_table.ipynb>data table notebook</a>'\n",
              "            + ' to learn more about interactive tables.';\n",
              "          element.innerHTML = '';\n",
              "          dataTable['output_type'] = 'display_data';\n",
              "          await google.colab.output.renderOutput(dataTable, element);\n",
              "          const docLink = document.createElement('div');\n",
              "          docLink.innerHTML = docLinkHtml;\n",
              "          element.appendChild(docLink);\n",
              "        }\n",
              "      </script>\n",
              "    </div>\n",
              "  </div>\n",
              "  "
            ]
          },
          "metadata": {},
          "execution_count": 47
        }
      ],
      "source": [
        "# list the data type for all variables \n",
        "display(df_drop.dtypes)\n",
        "df_by_state = df_drop.set_index(\"state\")\n",
        "df_by_state.head()"
      ]
    },
    {
      "cell_type": "markdown",
      "metadata": {
        "id": "d1FTaZr-f06_"
      },
      "source": [
        "# **Exploratory Data Analysis (EDA)**"
      ]
    },
    {
      "cell_type": "markdown",
      "metadata": {
        "id": "Oxw8tIlWeSnt"
      },
      "source": [
        "First, we would like to see the distribution of the average composite SAT scores for different states. \n",
        "To see the distribution of the average composite SAT score, we use a histogram to visualize the distrubution for difference states. "
      ]
    },
    {
      "cell_type": "code",
      "execution_count": null,
      "metadata": {
        "colab": {
          "base_uri": "https://localhost:8080/",
          "height": 283
        },
        "id": "_wEN692WRQGM",
        "outputId": "67235444-9218-4ec1-be19-952b82601750"
      },
      "outputs": [
        {
          "output_type": "execute_result",
          "data": {
            "text/plain": [
              "<matplotlib.axes._subplots.AxesSubplot at 0x7f526a1a31f0>"
            ]
          },
          "metadata": {},
          "execution_count": 48
        },
        {
          "output_type": "display_data",
          "data": {
            "text/plain": [
              "<Figure size 432x288 with 1 Axes>"
            ],
            "image/png": "[encoded data removed]"
          },
          "metadata": {
            "needs_background": "light"
          }
        }
      ],
      "source": [
        "# plot a histogram showing average SAT scores distribution \n",
        "df_by_state[\"csat\"].plot.hist(bins=15,legend=True, alpha=.5)"
      ]
    },
    {
      "cell_type": "markdown",
      "metadata": {
        "id": "I1dUvsMfdo06"
      },
      "source": [
        "To see which states have the highest average composite SAT score. We start by sorting the data set, we find out that Iowa, North Dakota, and South Dakota are the top three states with the highest average composite SAT score. "
      ]
    },
    {
      "cell_type": "code",
      "execution_count": null,
      "metadata": {
        "colab": {
          "base_uri": "https://localhost:8080/",
          "height": 238
        },
        "id": "T-vbGjChxmST",
        "outputId": "725b8586-5908-4105-c17b-028ef365ed7e"
      },
      "outputs": [
        {
          "output_type": "execute_result",
          "data": {
            "text/plain": [
              "               region  csat  vsat  msat  percent  expense  income  high  \\\n",
              "state                                                                     \n",
              "Iowa          Midwest  1093   515   578        5     4679  30.565  80.1   \n",
              "North Dakota  Midwest  1073   502   571        6     4199  27.051  76.7   \n",
              "South Dakota  Midwest  1047   496   551        5     3965  26.223  77.1   \n",
              "Kansas        Midwest  1039   493   546       10     4874  31.803  81.3   \n",
              "Utah             West  1031   494   537        5     2960  34.342  85.1   \n",
              "\n",
              "              college  \n",
              "state                  \n",
              "Iowa             16.9  \n",
              "North Dakota     18.1  \n",
              "South Dakota     17.2  \n",
              "Kansas           21.1  \n",
              "Utah             22.3  "
            ],
            "text/html": [
              "\n",
              "  <div id=\"df-4752c6f7-009e-48e1-b335-873d77453a7a\">\n",
              "    <div class=\"colab-df-container\">\n",
              "      <div>\n",
              "<style scoped>\n",
              "    .dataframe tbody tr th:only-of-type {\n",
              "        vertical-align: middle;\n",
              "    }\n",
              "\n",
              "    .dataframe tbody tr th {\n",
              "        vertical-align: top;\n",
              "    }\n",
              "\n",
              "    .dataframe thead th {\n",
              "        text-align: right;\n",
              "    }\n",
              "</style>\n",
              "<table border=\"1\" class=\"dataframe\">\n",
              "  <thead>\n",
              "    <tr style=\"text-align: right;\">\n",
              "      <th></th>\n",
              "      <th>region</th>\n",
              "      <th>csat</th>\n",
              "      <th>vsat</th>\n",
              "      <th>msat</th>\n",
              "      <th>percent</th>\n",
              "      <th>expense</th>\n",
              "      <th>income</th>\n",
              "      <th>high</th>\n",
              "      <th>college</th>\n",
              "    </tr>\n",
              "    <tr>\n",
              "      <th>state</th>\n",
              "      <th></th>\n",
              "      <th></th>\n",
              "      <th></th>\n",
              "      <th></th>\n",
              "      <th></th>\n",
              "      <th></th>\n",
              "      <th></th>\n",
              "      <th></th>\n",
              "      <th></th>\n",
              "    </tr>\n",
              "  </thead>\n",
              "  <tbody>\n",
              "    <tr>\n",
              "      <th>Iowa</th>\n",
              "      <td>Midwest</td>\n",
              "      <td>1093</td>\n",
              "      <td>515</td>\n",
              "      <td>578</td>\n",
              "      <td>5</td>\n",
              "      <td>4679</td>\n",
              "      <td>30.565</td>\n",
              "      <td>80.1</td>\n",
              "      <td>16.9</td>\n",
              "    </tr>\n",
              "    <tr>\n",
              "      <th>North Dakota</th>\n",
              "      <td>Midwest</td>\n",
              "      <td>1073</td>\n",
              "      <td>502</td>\n",
              "      <td>571</td>\n",
              "      <td>6</td>\n",
              "      <td>4199</td>\n",
              "      <td>27.051</td>\n",
              "      <td>76.7</td>\n",
              "      <td>18.1</td>\n",
              "    </tr>\n",
              "    <tr>\n",
              "      <th>South Dakota</th>\n",
              "      <td>Midwest</td>\n",
              "      <td>1047</td>\n",
              "      <td>496</td>\n",
              "      <td>551</td>\n",
              "      <td>5</td>\n",
              "      <td>3965</td>\n",
              "      <td>26.223</td>\n",
              "      <td>77.1</td>\n",
              "      <td>17.2</td>\n",
              "    </tr>\n",
              "    <tr>\n",
              "      <th>Kansas</th>\n",
              "      <td>Midwest</td>\n",
              "      <td>1039</td>\n",
              "      <td>493</td>\n",
              "      <td>546</td>\n",
              "      <td>10</td>\n",
              "      <td>4874</td>\n",
              "      <td>31.803</td>\n",
              "      <td>81.3</td>\n",
              "      <td>21.1</td>\n",
              "    </tr>\n",
              "    <tr>\n",
              "      <th>Utah</th>\n",
              "      <td>West</td>\n",
              "      <td>1031</td>\n",
              "      <td>494</td>\n",
              "      <td>537</td>\n",
              "      <td>5</td>\n",
              "      <td>2960</td>\n",
              "      <td>34.342</td>\n",
              "      <td>85.1</td>\n",
              "      <td>22.3</td>\n",
              "    </tr>\n",
              "  </tbody>\n",
              "</table>\n",
              "</div>\n",
              "      <button class=\"colab-df-convert\" onclick=\"convertToInteractive('df-4752c6f7-009e-48e1-b335-873d77453a7a')\"\n",
              "              title=\"Convert this dataframe to an interactive table.\"\n",
              "              style=\"display:none;\">\n",
              "        \n",
              "  <svg xmlns=\"http://www.w3.org/2000/svg\" height=\"24px\"viewBox=\"0 0 24 24\"\n",
              "       width=\"24px\">\n",
              "    <path d=\"M0 0h24v24H0V0z\" fill=\"none\"/>\n",
              "    <path d=\"M18.56 5.44l.94 2.06.94-2.06 2.06-.94-2.06-.94-.94-2.06-.94 2.06-2.06.94zm-11 1L8.5 8.5l.94-2.06 2.06-.94-2.06-.94L8.5 2.5l-.94 2.06-2.06.94zm10 10l.94 2.06.94-2.06 2.06-.94-2.06-.94-.94-2.06-.94 2.06-2.06.94z\"/><path d=\"M17.41 7.96l-1.37-1.37c-.4-.4-.92-.59-1.43-.59-.52 0-1.04.2-1.43.59L10.3 9.45l-7.72 7.72c-.78.78-.78 2.05 0 2.83L4 21.41c.39.39.9.59 1.41.59.51 0 1.02-.2 1.41-.59l7.78-7.78 2.81-2.81c.8-.78.8-2.07 0-2.86zM5.41 20L4 18.59l7.72-7.72 1.47 1.35L5.41 20z\"/>\n",
              "  </svg>\n",
              "      </button>\n",
              "      \n",
              "  <style>\n",
              "    .colab-df-container {\n",
              "      display:flex;\n",
              "      flex-wrap:wrap;\n",
              "      gap: 12px;\n",
              "    }\n",
              "\n",
              "    .colab-df-convert {\n",
              "      background-color: #E8F0FE;\n",
              "      border: none;\n",
              "      border-radius: 50%;\n",
              "      cursor: pointer;\n",
              "      display: none;\n",
              "      fill: #1967D2;\n",
              "      height: 32px;\n",
              "      padding: 0 0 0 0;\n",
              "      width: 32px;\n",
              "    }\n",
              "\n",
              "    .colab-df-convert:hover {\n",
              "      background-color: #E2EBFA;\n",
              "      box-shadow: 0px 1px 2px rgba(60, 64, 67, 0.3), 0px 1px 3px 1px rgba(60, 64, 67, 0.15);\n",
              "      fill: #174EA6;\n",
              "    }\n",
              "\n",
              "    [theme=dark] .colab-df-convert {\n",
              "      background-color: #3B4455;\n",
              "      fill: #D2E3FC;\n",
              "    }\n",
              "\n",
              "    [theme=dark] .colab-df-convert:hover {\n",
              "      background-color: #434B5C;\n",
              "      box-shadow: 0px 1px 3px 1px rgba(0, 0, 0, 0.15);\n",
              "      filter: drop-shadow(0px 1px 2px rgba(0, 0, 0, 0.3));\n",
              "      fill: #FFFFFF;\n",
              "    }\n",
              "  </style>\n",
              "\n",
              "      <script>\n",
              "        const buttonEl =\n",
              "          document.querySelector('#df-4752c6f7-009e-48e1-b335-873d77453a7a button.colab-df-convert');\n",
              "        buttonEl.style.display =\n",
              "          google.colab.kernel.accessAllowed ? 'block' : 'none';\n",
              "\n",
              "        async function convertToInteractive(key) {\n",
              "          const element = document.querySelector('#df-4752c6f7-009e-48e1-b335-873d77453a7a');\n",
              "          const dataTable =\n",
              "            await google.colab.kernel.invokeFunction('convertToInteractive',\n",
              "                                                     [key], {});\n",
              "          if (!dataTable) return;\n",
              "\n",
              "          const docLinkHtml = 'Like what you see? Visit the ' +\n",
              "            '<a target=\"_blank\" href=https://colab.research.google.com/notebooks/data_table.ipynb>data table notebook</a>'\n",
              "            + ' to learn more about interactive tables.';\n",
              "          element.innerHTML = '';\n",
              "          dataTable['output_type'] = 'display_data';\n",
              "          await google.colab.output.renderOutput(dataTable, element);\n",
              "          const docLink = document.createElement('div');\n",
              "          docLink.innerHTML = docLinkHtml;\n",
              "          element.appendChild(docLink);\n",
              "        }\n",
              "      </script>\n",
              "    </div>\n",
              "  </div>\n",
              "  "
            ]
          },
          "metadata": {},
          "execution_count": 49
        }
      ],
      "source": [
        "# Sort csat decending to find the states with highest average composite SAT score\n",
        "df_by_sat = df_by_state.sort_values(\"csat\",ascending=False)\n",
        "df_by_sat.head()"
      ]
    },
    {
      "cell_type": "markdown",
      "metadata": {
        "id": "_j5LQ7E4gLpv"
      },
      "source": [
        "Next, we would love to see if there any correlations between average composite SAT scores and percentage of adults having a high school diploma/college degress by using a scatterplot. "
      ]
    },
    {
      "cell_type": "code",
      "execution_count": null,
      "metadata": {
        "colab": {
          "base_uri": "https://localhost:8080/",
          "height": 559
        },
        "id": "mxGLtcbRyhfK",
        "outputId": "c23836cd-fd48-402a-abe0-dd4ffea468e3"
      },
      "outputs": [
        {
          "output_type": "execute_result",
          "data": {
            "text/plain": [
              "<matplotlib.axes._subplots.AxesSubplot at 0x7f5268d25a60>"
            ]
          },
          "metadata": {},
          "execution_count": 50
        },
        {
          "output_type": "display_data",
          "data": {
            "text/plain": [
              "<Figure size 432x288 with 1 Axes>"
            ],
            "image/png": "[encoded data removed]"
          },
          "metadata": {
            "needs_background": "light"
          }
        },
        {
          "output_type": "display_data",
          "data": {
            "text/plain": [
              "<Figure size 432x288 with 1 Axes>"
            ],
            "image/png": "[encoded data removed]"
          },
          "metadata": {
            "needs_background": "light"
          }
        }
      ],
      "source": [
        "# Plot a scatterplot to show the correlation between average composite SAT scores and percentage of adults having a high school diploma \n",
        "df_by_state.plot.scatter(y=\"high\", x=\"csat\", color='DarkBlue',label=\"% adults having a high school diploma\")\n",
        "df_by_state.plot.scatter(y=\"college\", x=\"csat\", color='LightBlue',label=\"% adults having a college degree\")"
      ]
    },
    {
      "cell_type": "markdown",
      "metadata": {
        "id": "vOJcJbxzkky9"
      },
      "source": [
        "We can see that there is a positive correlation between average composite SAT scores and percentage of adults having a high school diploma. There is a negative correlation between average composite SAT scores and percentage of adults having a college degree. This first result supports our hypothesis and the second result is quite surprising. "
      ]
    },
    {
      "cell_type": "markdown",
      "metadata": {
        "id": "DPGEC7uH9FDj"
      },
      "source": [
        "However, given that the top SAT states seem to be very rural, it could be the case that these states also have a smaller fraction of people who take the SAT and that could explain the trend. We think it'd be interesting to see if there's any correlation between median household income and the average SAT score."
      ]
    },
    {
      "cell_type": "code",
      "execution_count": null,
      "metadata": {
        "colab": {
          "base_uri": "https://localhost:8080/",
          "height": 297
        },
        "id": "T36z_8dwOKld",
        "outputId": "9cb0f26c-270b-4a2e-e28b-92e37d81b608"
      },
      "outputs": [
        {
          "output_type": "execute_result",
          "data": {
            "text/plain": [
              "<matplotlib.axes._subplots.AxesSubplot at 0x7f5268d17970>"
            ]
          },
          "metadata": {},
          "execution_count": 51
        },
        {
          "output_type": "display_data",
          "data": {
            "text/plain": [
              "<Figure size 432x288 with 1 Axes>"
            ],
            "image/png": "[encoded data removed]"
          },
          "metadata": {
            "needs_background": "light"
          }
        }
      ],
      "source": [
        "df_by_state.plot.scatter(y=\"csat\", x=\"income\", color='Green',label=\"Median household income\")"
      ]
    },
    {
      "cell_type": "markdown",
      "source": [
        "From the scatterplot, we can see that there is a negative correlation between the median household income and the avergae SAT score. Our new hypothesis is that rural area (area with low median household income), has a smaller fraction of students taking SAT. These students tend to be high-performance and high achieving students, resulting a higher average SAT score. "
      ],
      "metadata": {
        "id": "kYbBdEioekXN"
      }
    },
    {
      "cell_type": "code",
      "execution_count": null,
      "metadata": {
        "colab": {
          "base_uri": "https://localhost:8080/",
          "height": 297
        },
        "id": "kzE0gV8494T8",
        "outputId": "e43614c9-4611-4d08-9e07-c0c5c38b4b27"
      },
      "outputs": [
        {
          "output_type": "execute_result",
          "data": {
            "text/plain": [
              "<matplotlib.axes._subplots.AxesSubplot at 0x7f5268c8a370>"
            ]
          },
          "metadata": {},
          "execution_count": 52
        },
        {
          "output_type": "display_data",
          "data": {
            "text/plain": [
              "<Figure size 432x288 with 1 Axes>"
            ],
            "image/png": "[encoded data removed]"
          },
          "metadata": {
            "needs_background": "light"
          }
        }
      ],
      "source": [
        "df_by_state.plot.scatter(y=\"csat\", x=\"percent\", color='DarkBlue',label=\"% highschoolers taking SAT\")"
      ]
    },
    {
      "cell_type": "markdown",
      "metadata": {
        "id": "csaidjxp_DVk"
      },
      "source": [
        "Based on the graph, there is a negative correlation between percentage of high schoolers taking SAT and the average SAT score. This explains that why the top SAT states are states that are more on the rural side. Given that only a small percentage of high schoolers from these states are taking SAT, it is very likely that only high-achieving students are taking the SAT and thus the mean SAT is high compared to states that having a large percentage of high schoolers taking the SAT. "
      ]
    },
    {
      "cell_type": "markdown",
      "source": [
        "Now, let's see which variables among the list are strong predictors for average SAT score."
      ],
      "metadata": {
        "id": "AbVaXjT8fx6z"
      }
    },
    {
      "cell_type": "code",
      "source": [
        "df_by_state.corr()"
      ],
      "metadata": {
        "colab": {
          "base_uri": "https://localhost:8080/",
          "height": 300
        },
        "id": "WlZWN9jvyWU1",
        "outputId": "13304566-7085-461b-d11b-6f4a52920157"
      },
      "execution_count": null,
      "outputs": [
        {
          "output_type": "execute_result",
          "data": {
            "text/plain": [
              "             csat      vsat      msat   percent   expense    income      high  \\\n",
              "csat     1.000000  0.991312  0.993034 -0.875806 -0.466298 -0.471260  0.085778   \n",
              "vsat     0.991312  1.000000  0.968908 -0.871227 -0.472506 -0.502519  0.049127   \n",
              "msat     0.993034  0.968908  1.000000 -0.866991 -0.453860 -0.436308  0.117344   \n",
              "percent -0.875806 -0.871227 -0.866991  1.000000  0.650935  0.673345  0.141303   \n",
              "expense -0.466298 -0.472506 -0.453860  0.650935  1.000000  0.678412  0.313279   \n",
              "income  -0.471260 -0.502519 -0.436308  0.673345  0.678412  1.000000  0.509908   \n",
              "high     0.085778  0.049127  0.117344  0.141303  0.313279  0.509908  1.000000   \n",
              "college -0.372943 -0.380991 -0.360234  0.609065  0.639996  0.723354  0.531876   \n",
              "\n",
              "          college  \n",
              "csat    -0.372943  \n",
              "vsat    -0.380991  \n",
              "msat    -0.360234  \n",
              "percent  0.609065  \n",
              "expense  0.639996  \n",
              "income   0.723354  \n",
              "high     0.531876  \n",
              "college  1.000000  "
            ],
            "text/html": [
              "\n",
              "  <div id=\"df-fe22564a-2884-4f0c-8193-e91b94f0a34d\">\n",
              "    <div class=\"colab-df-container\">\n",
              "      <div>\n",
              "<style scoped>\n",
              "    .dataframe tbody tr th:only-of-type {\n",
              "        vertical-align: middle;\n",
              "    }\n",
              "\n",
              "    .dataframe tbody tr th {\n",
              "        vertical-align: top;\n",
              "    }\n",
              "\n",
              "    .dataframe thead th {\n",
              "        text-align: right;\n",
              "    }\n",
              "</style>\n",
              "<table border=\"1\" class=\"dataframe\">\n",
              "  <thead>\n",
              "    <tr style=\"text-align: right;\">\n",
              "      <th></th>\n",
              "      <th>csat</th>\n",
              "      <th>vsat</th>\n",
              "      <th>msat</th>\n",
              "      <th>percent</th>\n",
              "      <th>expense</th>\n",
              "      <th>income</th>\n",
              "      <th>high</th>\n",
              "      <th>college</th>\n",
              "    </tr>\n",
              "  </thead>\n",
              "  <tbody>\n",
              "    <tr>\n",
              "      <th>csat</th>\n",
              "      <td>1.000000</td>\n",
              "      <td>0.991312</td>\n",
              "      <td>0.993034</td>\n",
              "      <td>-0.875806</td>\n",
              "      <td>-0.466298</td>\n",
              "      <td>-0.471260</td>\n",
              "      <td>0.085778</td>\n",
              "      <td>-0.372943</td>\n",
              "    </tr>\n",
              "    <tr>\n",
              "      <th>vsat</th>\n",
              "      <td>0.991312</td>\n",
              "      <td>1.000000</td>\n",
              "      <td>0.968908</td>\n",
              "      <td>-0.871227</td>\n",
              "      <td>-0.472506</td>\n",
              "      <td>-0.502519</td>\n",
              "      <td>0.049127</td>\n",
              "      <td>-0.380991</td>\n",
              "    </tr>\n",
              "    <tr>\n",
              "      <th>msat</th>\n",
              "      <td>0.993034</td>\n",
              "      <td>0.968908</td>\n",
              "      <td>1.000000</td>\n",
              "      <td>-0.866991</td>\n",
              "      <td>-0.453860</td>\n",
              "      <td>-0.436308</td>\n",
              "      <td>0.117344</td>\n",
              "      <td>-0.360234</td>\n",
              "    </tr>\n",
              "    <tr>\n",
              "      <th>percent</th>\n",
              "      <td>-0.875806</td>\n",
              "      <td>-0.871227</td>\n",
              "      <td>-0.866991</td>\n",
              "      <td>1.000000</td>\n",
              "      <td>0.650935</td>\n",
              "      <td>0.673345</td>\n",
              "      <td>0.141303</td>\n",
              "      <td>0.609065</td>\n",
              "    </tr>\n",
              "    <tr>\n",
              "      <th>expense</th>\n",
              "      <td>-0.466298</td>\n",
              "      <td>-0.472506</td>\n",
              "      <td>-0.453860</td>\n",
              "      <td>0.650935</td>\n",
              "      <td>1.000000</td>\n",
              "      <td>0.678412</td>\n",
              "      <td>0.313279</td>\n",
              "      <td>0.639996</td>\n",
              "    </tr>\n",
              "    <tr>\n",
              "      <th>income</th>\n",
              "      <td>-0.471260</td>\n",
              "      <td>-0.502519</td>\n",
              "      <td>-0.436308</td>\n",
              "      <td>0.673345</td>\n",
              "      <td>0.678412</td>\n",
              "      <td>1.000000</td>\n",
              "      <td>0.509908</td>\n",
              "      <td>0.723354</td>\n",
              "    </tr>\n",
              "    <tr>\n",
              "      <th>high</th>\n",
              "      <td>0.085778</td>\n",
              "      <td>0.049127</td>\n",
              "      <td>0.117344</td>\n",
              "      <td>0.141303</td>\n",
              "      <td>0.313279</td>\n",
              "      <td>0.509908</td>\n",
              "      <td>1.000000</td>\n",
              "      <td>0.531876</td>\n",
              "    </tr>\n",
              "    <tr>\n",
              "      <th>college</th>\n",
              "      <td>-0.372943</td>\n",
              "      <td>-0.380991</td>\n",
              "      <td>-0.360234</td>\n",
              "      <td>0.609065</td>\n",
              "      <td>0.639996</td>\n",
              "      <td>0.723354</td>\n",
              "      <td>0.531876</td>\n",
              "      <td>1.000000</td>\n",
              "    </tr>\n",
              "  </tbody>\n",
              "</table>\n",
              "</div>\n",
              "      <button class=\"colab-df-convert\" onclick=\"convertToInteractive('df-fe22564a-2884-4f0c-8193-e91b94f0a34d')\"\n",
              "              title=\"Convert this dataframe to an interactive table.\"\n",
              "              style=\"display:none;\">\n",
              "        \n",
              "  <svg xmlns=\"http://www.w3.org/2000/svg\" height=\"24px\"viewBox=\"0 0 24 24\"\n",
              "       width=\"24px\">\n",
              "    <path d=\"M0 0h24v24H0V0z\" fill=\"none\"/>\n",
              "    <path d=\"M18.56 5.44l.94 2.06.94-2.06 2.06-.94-2.06-.94-.94-2.06-.94 2.06-2.06.94zm-11 1L8.5 8.5l.94-2.06 2.06-.94-2.06-.94L8.5 2.5l-.94 2.06-2.06.94zm10 10l.94 2.06.94-2.06 2.06-.94-2.06-.94-.94-2.06-.94 2.06-2.06.94z\"/><path d=\"M17.41 7.96l-1.37-1.37c-.4-.4-.92-.59-1.43-.59-.52 0-1.04.2-1.43.59L10.3 9.45l-7.72 7.72c-.78.78-.78 2.05 0 2.83L4 21.41c.39.39.9.59 1.41.59.51 0 1.02-.2 1.41-.59l7.78-7.78 2.81-2.81c.8-.78.8-2.07 0-2.86zM5.41 20L4 18.59l7.72-7.72 1.47 1.35L5.41 20z\"/>\n",
              "  </svg>\n",
              "      </button>\n",
              "      \n",
              "  <style>\n",
              "    .colab-df-container {\n",
              "      display:flex;\n",
              "      flex-wrap:wrap;\n",
              "      gap: 12px;\n",
              "    }\n",
              "\n",
              "    .colab-df-convert {\n",
              "      background-color: #E8F0FE;\n",
              "      border: none;\n",
              "      border-radius: 50%;\n",
              "      cursor: pointer;\n",
              "      display: none;\n",
              "      fill: #1967D2;\n",
              "      height: 32px;\n",
              "      padding: 0 0 0 0;\n",
              "      width: 32px;\n",
              "    }\n",
              "\n",
              "    .colab-df-convert:hover {\n",
              "      background-color: #E2EBFA;\n",
              "      box-shadow: 0px 1px 2px rgba(60, 64, 67, 0.3), 0px 1px 3px 1px rgba(60, 64, 67, 0.15);\n",
              "      fill: #174EA6;\n",
              "    }\n",
              "\n",
              "    [theme=dark] .colab-df-convert {\n",
              "      background-color: #3B4455;\n",
              "      fill: #D2E3FC;\n",
              "    }\n",
              "\n",
              "    [theme=dark] .colab-df-convert:hover {\n",
              "      background-color: #434B5C;\n",
              "      box-shadow: 0px 1px 3px 1px rgba(0, 0, 0, 0.15);\n",
              "      filter: drop-shadow(0px 1px 2px rgba(0, 0, 0, 0.3));\n",
              "      fill: #FFFFFF;\n",
              "    }\n",
              "  </style>\n",
              "\n",
              "      <script>\n",
              "        const buttonEl =\n",
              "          document.querySelector('#df-fe22564a-2884-4f0c-8193-e91b94f0a34d button.colab-df-convert');\n",
              "        buttonEl.style.display =\n",
              "          google.colab.kernel.accessAllowed ? 'block' : 'none';\n",
              "\n",
              "        async function convertToInteractive(key) {\n",
              "          const element = document.querySelector('#df-fe22564a-2884-4f0c-8193-e91b94f0a34d');\n",
              "          const dataTable =\n",
              "            await google.colab.kernel.invokeFunction('convertToInteractive',\n",
              "                                                     [key], {});\n",
              "          if (!dataTable) return;\n",
              "\n",
              "          const docLinkHtml = 'Like what you see? Visit the ' +\n",
              "            '<a target=\"_blank\" href=https://colab.research.google.com/notebooks/data_table.ipynb>data table notebook</a>'\n",
              "            + ' to learn more about interactive tables.';\n",
              "          element.innerHTML = '';\n",
              "          dataTable['output_type'] = 'display_data';\n",
              "          await google.colab.output.renderOutput(dataTable, element);\n",
              "          const docLink = document.createElement('div');\n",
              "          docLink.innerHTML = docLinkHtml;\n",
              "          element.appendChild(docLink);\n",
              "        }\n",
              "      </script>\n",
              "    </div>\n",
              "  </div>\n",
              "  "
            ]
          },
          "metadata": {},
          "execution_count": 53
        }
      ]
    },
    {
      "cell_type": "markdown",
      "source": [
        "Just like what we saw in the graph, percentage of high schoolers taking SAT is a strong predictor for average SAT score for a state, and median household income and expenditure for primary and secondary school follow. "
      ],
      "metadata": {
        "id": "n7FssiL0gY6w"
      }
    },
    {
      "cell_type": "markdown",
      "metadata": {
        "id": "9vl9bjl65AxQ"
      },
      "source": [
        "Now, we will add in extra datasets downloaded from [National Center for Educational Statistics](https://nces.ed.gov/programs/digest/d21/tables/dt21_226.40.asp) for SAT statistics for each state for a different year and analyze it."
      ]
    },
    {
      "cell_type": "code",
      "execution_count": null,
      "metadata": {
        "colab": {
          "base_uri": "https://localhost:8080/",
          "height": 206
        },
        "id": "7xAt2VuK5L2d",
        "outputId": "064fbf0c-1b17-49c8-a2cf-421dc6a24f91"
      },
      "outputs": [
        {
          "output_type": "execute_result",
          "data": {
            "text/plain": [
              "         State  Total SAT Mean score  Total SAT SD  Writing Mean score  \\\n",
              "0     Alabama                   1165           199                 593   \n",
              "1      Alaska                   1080           176                 547   \n",
              "2     Arizona                   1116           179                 563   \n",
              "3    Arkansas                   1208           198                 614   \n",
              "4  California                   1055           186                 531   \n",
              "\n",
              "   Writing SD  Math Mean score  Math SD  \\\n",
              "0         100              572      111   \n",
              "1          94              533       94   \n",
              "2          92              553       98   \n",
              "3         103              594      107   \n",
              "4          95              524      103   \n",
              "\n",
              "   Percentage of high schoolers taking SAT  \n",
              "0                                        5  \n",
              "1                                       38  \n",
              "2                                       30  \n",
              "3                                        3  \n",
              "4                                       53  "
            ],
            "text/html": [
              "\n",
              "  <div id=\"df-0cf938c3-abc6-40e1-8c99-b84ad2e6d80c\">\n",
              "    <div class=\"colab-df-container\">\n",
              "      <div>\n",
              "<style scoped>\n",
              "    .dataframe tbody tr th:only-of-type {\n",
              "        vertical-align: middle;\n",
              "    }\n",
              "\n",
              "    .dataframe tbody tr th {\n",
              "        vertical-align: top;\n",
              "    }\n",
              "\n",
              "    .dataframe thead th {\n",
              "        text-align: right;\n",
              "    }\n",
              "</style>\n",
              "<table border=\"1\" class=\"dataframe\">\n",
              "  <thead>\n",
              "    <tr style=\"text-align: right;\">\n",
              "      <th></th>\n",
              "      <th>State</th>\n",
              "      <th>Total SAT Mean score</th>\n",
              "      <th>Total SAT SD</th>\n",
              "      <th>Writing Mean score</th>\n",
              "      <th>Writing SD</th>\n",
              "      <th>Math Mean score</th>\n",
              "      <th>Math SD</th>\n",
              "      <th>Percentage of high schoolers taking SAT</th>\n",
              "    </tr>\n",
              "  </thead>\n",
              "  <tbody>\n",
              "    <tr>\n",
              "      <th>0</th>\n",
              "      <td>Alabama</td>\n",
              "      <td>1165</td>\n",
              "      <td>199</td>\n",
              "      <td>593</td>\n",
              "      <td>100</td>\n",
              "      <td>572</td>\n",
              "      <td>111</td>\n",
              "      <td>5</td>\n",
              "    </tr>\n",
              "    <tr>\n",
              "      <th>1</th>\n",
              "      <td>Alaska</td>\n",
              "      <td>1080</td>\n",
              "      <td>176</td>\n",
              "      <td>547</td>\n",
              "      <td>94</td>\n",
              "      <td>533</td>\n",
              "      <td>94</td>\n",
              "      <td>38</td>\n",
              "    </tr>\n",
              "    <tr>\n",
              "      <th>2</th>\n",
              "      <td>Arizona</td>\n",
              "      <td>1116</td>\n",
              "      <td>179</td>\n",
              "      <td>563</td>\n",
              "      <td>92</td>\n",
              "      <td>553</td>\n",
              "      <td>98</td>\n",
              "      <td>30</td>\n",
              "    </tr>\n",
              "    <tr>\n",
              "      <th>3</th>\n",
              "      <td>Arkansas</td>\n",
              "      <td>1208</td>\n",
              "      <td>198</td>\n",
              "      <td>614</td>\n",
              "      <td>103</td>\n",
              "      <td>594</td>\n",
              "      <td>107</td>\n",
              "      <td>3</td>\n",
              "    </tr>\n",
              "    <tr>\n",
              "      <th>4</th>\n",
              "      <td>California</td>\n",
              "      <td>1055</td>\n",
              "      <td>186</td>\n",
              "      <td>531</td>\n",
              "      <td>95</td>\n",
              "      <td>524</td>\n",
              "      <td>103</td>\n",
              "      <td>53</td>\n",
              "    </tr>\n",
              "  </tbody>\n",
              "</table>\n",
              "</div>\n",
              "      <button class=\"colab-df-convert\" onclick=\"convertToInteractive('df-0cf938c3-abc6-40e1-8c99-b84ad2e6d80c')\"\n",
              "              title=\"Convert this dataframe to an interactive table.\"\n",
              "              style=\"display:none;\">\n",
              "        \n",
              "  <svg xmlns=\"http://www.w3.org/2000/svg\" height=\"24px\"viewBox=\"0 0 24 24\"\n",
              "       width=\"24px\">\n",
              "    <path d=\"M0 0h24v24H0V0z\" fill=\"none\"/>\n",
              "    <path d=\"M18.56 5.44l.94 2.06.94-2.06 2.06-.94-2.06-.94-.94-2.06-.94 2.06-2.06.94zm-11 1L8.5 8.5l.94-2.06 2.06-.94-2.06-.94L8.5 2.5l-.94 2.06-2.06.94zm10 10l.94 2.06.94-2.06 2.06-.94-2.06-.94-.94-2.06-.94 2.06-2.06.94z\"/><path d=\"M17.41 7.96l-1.37-1.37c-.4-.4-.92-.59-1.43-.59-.52 0-1.04.2-1.43.59L10.3 9.45l-7.72 7.72c-.78.78-.78 2.05 0 2.83L4 21.41c.39.39.9.59 1.41.59.51 0 1.02-.2 1.41-.59l7.78-7.78 2.81-2.81c.8-.78.8-2.07 0-2.86zM5.41 20L4 18.59l7.72-7.72 1.47 1.35L5.41 20z\"/>\n",
              "  </svg>\n",
              "      </button>\n",
              "      \n",
              "  <style>\n",
              "    .colab-df-container {\n",
              "      display:flex;\n",
              "      flex-wrap:wrap;\n",
              "      gap: 12px;\n",
              "    }\n",
              "\n",
              "    .colab-df-convert {\n",
              "      background-color: #E8F0FE;\n",
              "      border: none;\n",
              "      border-radius: 50%;\n",
              "      cursor: pointer;\n",
              "      display: none;\n",
              "      fill: #1967D2;\n",
              "      height: 32px;\n",
              "      padding: 0 0 0 0;\n",
              "      width: 32px;\n",
              "    }\n",
              "\n",
              "    .colab-df-convert:hover {\n",
              "      background-color: #E2EBFA;\n",
              "      box-shadow: 0px 1px 2px rgba(60, 64, 67, 0.3), 0px 1px 3px 1px rgba(60, 64, 67, 0.15);\n",
              "      fill: #174EA6;\n",
              "    }\n",
              "\n",
              "    [theme=dark] .colab-df-convert {\n",
              "      background-color: #3B4455;\n",
              "      fill: #D2E3FC;\n",
              "    }\n",
              "\n",
              "    [theme=dark] .colab-df-convert:hover {\n",
              "      background-color: #434B5C;\n",
              "      box-shadow: 0px 1px 3px 1px rgba(0, 0, 0, 0.15);\n",
              "      filter: drop-shadow(0px 1px 2px rgba(0, 0, 0, 0.3));\n",
              "      fill: #FFFFFF;\n",
              "    }\n",
              "  </style>\n",
              "\n",
              "      <script>\n",
              "        const buttonEl =\n",
              "          document.querySelector('#df-0cf938c3-abc6-40e1-8c99-b84ad2e6d80c button.colab-df-convert');\n",
              "        buttonEl.style.display =\n",
              "          google.colab.kernel.accessAllowed ? 'block' : 'none';\n",
              "\n",
              "        async function convertToInteractive(key) {\n",
              "          const element = document.querySelector('#df-0cf938c3-abc6-40e1-8c99-b84ad2e6d80c');\n",
              "          const dataTable =\n",
              "            await google.colab.kernel.invokeFunction('convertToInteractive',\n",
              "                                                     [key], {});\n",
              "          if (!dataTable) return;\n",
              "\n",
              "          const docLinkHtml = 'Like what you see? Visit the ' +\n",
              "            '<a target=\"_blank\" href=https://colab.research.google.com/notebooks/data_table.ipynb>data table notebook</a>'\n",
              "            + ' to learn more about interactive tables.';\n",
              "          element.innerHTML = '';\n",
              "          dataTable['output_type'] = 'display_data';\n",
              "          await google.colab.output.renderOutput(dataTable, element);\n",
              "          const docLink = document.createElement('div');\n",
              "          docLink.innerHTML = docLinkHtml;\n",
              "          element.appendChild(docLink);\n",
              "        }\n",
              "      </script>\n",
              "    </div>\n",
              "  </div>\n",
              "  "
            ]
          },
          "metadata": {},
          "execution_count": 54
        }
      ],
      "source": [
        "# We are importing the dataset for year of 2021\n",
        "import pandas as pd\n",
        "df2 = pd.read_csv(\"Data2.csv\")\n",
        "df2.head()"
      ]
    },
    {
      "cell_type": "markdown",
      "source": [
        "Let's sex state as the index and have a closer look. This second dataset also supports our hypothesis that different states have drastic different percentage of students taking the SAT, ranging from below 10% to above 80%This can explain why surprisingly, rural states (states with lower median household income) have a higher average SAT score. "
      ],
      "metadata": {
        "id": "h1PNWLaug1g2"
      }
    },
    {
      "cell_type": "code",
      "execution_count": null,
      "metadata": {
        "colab": {
          "base_uri": "https://localhost:8080/",
          "height": 238
        },
        "id": "rz5OGRnJzZRQ",
        "outputId": "14df9228-5ecc-4092-c810-4e531a928722"
      },
      "outputs": [
        {
          "output_type": "execute_result",
          "data": {
            "text/plain": [
              "             Total SAT Mean score  Total SAT SD  Writing Mean score  \\\n",
              "State                                                                 \n",
              "Alabama                      1165           199                 593   \n",
              "Alaska                       1080           176                 547   \n",
              "Arizona                      1116           179                 563   \n",
              "Arkansas                     1208           198                 614   \n",
              "California                   1055           186                 531   \n",
              "\n",
              "             Writing SD  Math Mean score  Math SD  \\\n",
              "State                                               \n",
              "Alabama             100              572      111   \n",
              "Alaska               94              533       94   \n",
              "Arizona              92              553       98   \n",
              "Arkansas            103              594      107   \n",
              "California           95              524      103   \n",
              "\n",
              "             Percentage of high schoolers taking SAT  \n",
              "State                                                 \n",
              "Alabama                                            5  \n",
              "Alaska                                            38  \n",
              "Arizona                                           30  \n",
              "Arkansas                                           3  \n",
              "California                                        53  "
            ],
            "text/html": [
              "\n",
              "  <div id=\"df-ea38d6ba-af86-48ee-9e34-2d0f044e0e78\">\n",
              "    <div class=\"colab-df-container\">\n",
              "      <div>\n",
              "<style scoped>\n",
              "    .dataframe tbody tr th:only-of-type {\n",
              "        vertical-align: middle;\n",
              "    }\n",
              "\n",
              "    .dataframe tbody tr th {\n",
              "        vertical-align: top;\n",
              "    }\n",
              "\n",
              "    .dataframe thead th {\n",
              "        text-align: right;\n",
              "    }\n",
              "</style>\n",
              "<table border=\"1\" class=\"dataframe\">\n",
              "  <thead>\n",
              "    <tr style=\"text-align: right;\">\n",
              "      <th></th>\n",
              "      <th>Total SAT Mean score</th>\n",
              "      <th>Total SAT SD</th>\n",
              "      <th>Writing Mean score</th>\n",
              "      <th>Writing SD</th>\n",
              "      <th>Math Mean score</th>\n",
              "      <th>Math SD</th>\n",
              "      <th>Percentage of high schoolers taking SAT</th>\n",
              "    </tr>\n",
              "    <tr>\n",
              "      <th>State</th>\n",
              "      <th></th>\n",
              "      <th></th>\n",
              "      <th></th>\n",
              "      <th></th>\n",
              "      <th></th>\n",
              "      <th></th>\n",
              "      <th></th>\n",
              "    </tr>\n",
              "  </thead>\n",
              "  <tbody>\n",
              "    <tr>\n",
              "      <th>Alabama</th>\n",
              "      <td>1165</td>\n",
              "      <td>199</td>\n",
              "      <td>593</td>\n",
              "      <td>100</td>\n",
              "      <td>572</td>\n",
              "      <td>111</td>\n",
              "      <td>5</td>\n",
              "    </tr>\n",
              "    <tr>\n",
              "      <th>Alaska</th>\n",
              "      <td>1080</td>\n",
              "      <td>176</td>\n",
              "      <td>547</td>\n",
              "      <td>94</td>\n",
              "      <td>533</td>\n",
              "      <td>94</td>\n",
              "      <td>38</td>\n",
              "    </tr>\n",
              "    <tr>\n",
              "      <th>Arizona</th>\n",
              "      <td>1116</td>\n",
              "      <td>179</td>\n",
              "      <td>563</td>\n",
              "      <td>92</td>\n",
              "      <td>553</td>\n",
              "      <td>98</td>\n",
              "      <td>30</td>\n",
              "    </tr>\n",
              "    <tr>\n",
              "      <th>Arkansas</th>\n",
              "      <td>1208</td>\n",
              "      <td>198</td>\n",
              "      <td>614</td>\n",
              "      <td>103</td>\n",
              "      <td>594</td>\n",
              "      <td>107</td>\n",
              "      <td>3</td>\n",
              "    </tr>\n",
              "    <tr>\n",
              "      <th>California</th>\n",
              "      <td>1055</td>\n",
              "      <td>186</td>\n",
              "      <td>531</td>\n",
              "      <td>95</td>\n",
              "      <td>524</td>\n",
              "      <td>103</td>\n",
              "      <td>53</td>\n",
              "    </tr>\n",
              "  </tbody>\n",
              "</table>\n",
              "</div>\n",
              "      <button class=\"colab-df-convert\" onclick=\"convertToInteractive('df-ea38d6ba-af86-48ee-9e34-2d0f044e0e78')\"\n",
              "              title=\"Convert this dataframe to an interactive table.\"\n",
              "              style=\"display:none;\">\n",
              "        \n",
              "  <svg xmlns=\"http://www.w3.org/2000/svg\" height=\"24px\"viewBox=\"0 0 24 24\"\n",
              "       width=\"24px\">\n",
              "    <path d=\"M0 0h24v24H0V0z\" fill=\"none\"/>\n",
              "    <path d=\"M18.56 5.44l.94 2.06.94-2.06 2.06-.94-2.06-.94-.94-2.06-.94 2.06-2.06.94zm-11 1L8.5 8.5l.94-2.06 2.06-.94-2.06-.94L8.5 2.5l-.94 2.06-2.06.94zm10 10l.94 2.06.94-2.06 2.06-.94-2.06-.94-.94-2.06-.94 2.06-2.06.94z\"/><path d=\"M17.41 7.96l-1.37-1.37c-.4-.4-.92-.59-1.43-.59-.52 0-1.04.2-1.43.59L10.3 9.45l-7.72 7.72c-.78.78-.78 2.05 0 2.83L4 21.41c.39.39.9.59 1.41.59.51 0 1.02-.2 1.41-.59l7.78-7.78 2.81-2.81c.8-.78.8-2.07 0-2.86zM5.41 20L4 18.59l7.72-7.72 1.47 1.35L5.41 20z\"/>\n",
              "  </svg>\n",
              "      </button>\n",
              "      \n",
              "  <style>\n",
              "    .colab-df-container {\n",
              "      display:flex;\n",
              "      flex-wrap:wrap;\n",
              "      gap: 12px;\n",
              "    }\n",
              "\n",
              "    .colab-df-convert {\n",
              "      background-color: #E8F0FE;\n",
              "      border: none;\n",
              "      border-radius: 50%;\n",
              "      cursor: pointer;\n",
              "      display: none;\n",
              "      fill: #1967D2;\n",
              "      height: 32px;\n",
              "      padding: 0 0 0 0;\n",
              "      width: 32px;\n",
              "    }\n",
              "\n",
              "    .colab-df-convert:hover {\n",
              "      background-color: #E2EBFA;\n",
              "      box-shadow: 0px 1px 2px rgba(60, 64, 67, 0.3), 0px 1px 3px 1px rgba(60, 64, 67, 0.15);\n",
              "      fill: #174EA6;\n",
              "    }\n",
              "\n",
              "    [theme=dark] .colab-df-convert {\n",
              "      background-color: #3B4455;\n",
              "      fill: #D2E3FC;\n",
              "    }\n",
              "\n",
              "    [theme=dark] .colab-df-convert:hover {\n",
              "      background-color: #434B5C;\n",
              "      box-shadow: 0px 1px 3px 1px rgba(0, 0, 0, 0.15);\n",
              "      filter: drop-shadow(0px 1px 2px rgba(0, 0, 0, 0.3));\n",
              "      fill: #FFFFFF;\n",
              "    }\n",
              "  </style>\n",
              "\n",
              "      <script>\n",
              "        const buttonEl =\n",
              "          document.querySelector('#df-ea38d6ba-af86-48ee-9e34-2d0f044e0e78 button.colab-df-convert');\n",
              "        buttonEl.style.display =\n",
              "          google.colab.kernel.accessAllowed ? 'block' : 'none';\n",
              "\n",
              "        async function convertToInteractive(key) {\n",
              "          const element = document.querySelector('#df-ea38d6ba-af86-48ee-9e34-2d0f044e0e78');\n",
              "          const dataTable =\n",
              "            await google.colab.kernel.invokeFunction('convertToInteractive',\n",
              "                                                     [key], {});\n",
              "          if (!dataTable) return;\n",
              "\n",
              "          const docLinkHtml = 'Like what you see? Visit the ' +\n",
              "            '<a target=\"_blank\" href=https://colab.research.google.com/notebooks/data_table.ipynb>data table notebook</a>'\n",
              "            + ' to learn more about interactive tables.';\n",
              "          element.innerHTML = '';\n",
              "          dataTable['output_type'] = 'display_data';\n",
              "          await google.colab.output.renderOutput(dataTable, element);\n",
              "          const docLink = document.createElement('div');\n",
              "          docLink.innerHTML = docLinkHtml;\n",
              "          element.appendChild(docLink);\n",
              "        }\n",
              "      </script>\n",
              "    </div>\n",
              "  </div>\n",
              "  "
            ]
          },
          "metadata": {},
          "execution_count": 55
        }
      ],
      "source": [
        "# Set the index with state \n",
        "df2_by_state = df2.set_index(\"State\")\n",
        "df2_by_state.head()\n"
      ]
    },
    {
      "cell_type": "markdown",
      "metadata": {
        "id": "tpymhZWE-yfT"
      },
      "source": [
        "Here, we use a histogram to find the distribution for the total mean score which is more in the range of 1050-1075."
      ]
    },
    {
      "cell_type": "code",
      "execution_count": null,
      "metadata": {
        "colab": {
          "base_uri": "https://localhost:8080/",
          "height": 283
        },
        "id": "qEg-AHLY5GFl",
        "outputId": "c98b5547-89c5-4040-a8f8-2b628050e5ca"
      },
      "outputs": [
        {
          "output_type": "execute_result",
          "data": {
            "text/plain": [
              "<matplotlib.axes._subplots.AxesSubplot at 0x7f5268c56be0>"
            ]
          },
          "metadata": {},
          "execution_count": 56
        },
        {
          "output_type": "display_data",
          "data": {
            "text/plain": [
              "<Figure size 432x288 with 1 Axes>"
            ],
            "image/png": "[encoded data removed]"
          },
          "metadata": {
            "needs_background": "light"
          }
        }
      ],
      "source": [
        "# Plot a histogram for total SAT mean score for each state in 2021\n",
        "df2_by_state[\"Total SAT Mean score\"].plot.hist(bins=15,legend=True, alpha=.5)"
      ]
    },
    {
      "cell_type": "code",
      "source": [
        "# Plot a histogram for Percentage of high schoolers taking SAT for each state in 2021\n",
        "df2_by_state[\"Percentage of high schoolers taking SAT\"].plot.hist(bins=15,legend=True, alpha=.5)"
      ],
      "metadata": {
        "colab": {
          "base_uri": "https://localhost:8080/",
          "height": 283
        },
        "id": "l5WE6iv6jbzi",
        "outputId": "091c9981-376f-4359-805e-12530599e5d9"
      },
      "execution_count": null,
      "outputs": [
        {
          "output_type": "execute_result",
          "data": {
            "text/plain": [
              "<matplotlib.axes._subplots.AxesSubplot at 0x7f5268bf25b0>"
            ]
          },
          "metadata": {},
          "execution_count": 57
        },
        {
          "output_type": "display_data",
          "data": {
            "text/plain": [
              "<Figure size 432x288 with 1 Axes>"
            ],
            "image/png": "[encoded data removed]"
          },
          "metadata": {
            "needs_background": "light"
          }
        }
      ]
    },
    {
      "cell_type": "markdown",
      "metadata": {
        "id": "ZLu4nDF9BBa-"
      },
      "source": [
        "# Model"
      ]
    },
    {
      "cell_type": "markdown",
      "metadata": {
        "id": "ztS-vT_ZBEcx"
      },
      "source": [
        "Here, we want to train our data into a model that we can use to better represent the data given. "
      ]
    },
    {
      "cell_type": "markdown",
      "source": [
        "We can see for our model that it has a positive coorelation as x the axis tends higher and the y axis are directly proportional rather than an inversely proportional relationship. "
      ],
      "metadata": {
        "id": "DzqvQrXkjuxu"
      }
    },
    {
      "cell_type": "code",
      "source": [
        "import numpy as np\n",
        "from sklearn.feature_extraction import DictVectorizer\n",
        "from sklearn.preprocessing import StandardScaler\n",
        "from sklearn.neighbors import KNeighborsRegressor\n",
        "from sklearn.pipeline import Pipeline\n",
        "\n",
        "features = [\"percent\",\"expense\",\"income\"]\n",
        "X_dict = df_by_state[features].to_dict(orient=\"records\")\n",
        "y = df_by_state[\"csat\"]\n",
        "\n",
        "# Specify pipeline\n",
        "vec = DictVectorizer(sparse=False)\n",
        "scaler = StandardScaler()\n",
        "model = KNeighborsRegressor(n_neighbors=10)\n",
        "pipeline = Pipeline([(\"vectorizer\", vec), (\"scaler\", scaler), (\"fit\", model)])\n",
        "\n",
        "from sklearn.model_selection import cross_val_score\n",
        "\n",
        "scores = cross_val_score(pipeline, X_dict, y, \n",
        "                         cv=5, scoring=\"neg_mean_squared_error\")\n",
        "scores\n",
        "\n",
        "vec = DictVectorizer(sparse=False)\n",
        "scaler = StandardScaler()\n",
        "\n",
        "# calculates estimate of test error based on 10-fold cross validation\n",
        "def get_cv_error(k):\n",
        "    model = KNeighborsRegressor(n_neighbors=k)\n",
        "    pipeline = Pipeline([(\"vectorizer\", vec), (\"scaler\", scaler), (\"fit\", model)])\n",
        "    mse = np.mean(-cross_val_score(\n",
        "        pipeline, X_dict, y, \n",
        "        cv=10, scoring=\"neg_mean_squared_error\"\n",
        "    ))\n",
        "    return mse\n",
        "    \n",
        "ks = pd.Series(range(1, 46))\n",
        "ks.index = range(1, 46)\n",
        "test_errs = ks.apply(get_cv_error)\n",
        "\n",
        "test_errs.plot.line()\n",
        "test_errs.sort_values()"
      ],
      "metadata": {
        "id": "-o6TVBZTqjsa",
        "colab": {
          "base_uri": "https://localhost:8080/",
          "height": 1000
        },
        "outputId": "4fb1daf1-b7dc-4b59-d876-67f008eb9bca"
      },
      "execution_count": null,
      "outputs": [
        {
          "output_type": "execute_result",
          "data": {
            "text/plain": [
              "4      878.914583\n",
              "3      883.908889\n",
              "2      886.907500\n",
              "5      929.987200\n",
              "6      936.273981\n",
              "8      948.670365\n",
              "7      958.723401\n",
              "9      962.961111\n",
              "10     987.832833\n",
              "11    1051.282452\n",
              "12    1116.800440\n",
              "13    1201.637968\n",
              "14    1208.706854\n",
              "15    1234.866104\n",
              "17    1244.757970\n",
              "16    1272.124206\n",
              "18    1277.362726\n",
              "19    1314.384303\n",
              "1     1343.136667\n",
              "20    1352.886983\n",
              "21    1438.091308\n",
              "22    1515.142893\n",
              "23    1609.336333\n",
              "24    1695.867946\n",
              "25    1774.409787\n",
              "26    1878.208683\n",
              "27    2046.466717\n",
              "28    2178.670582\n",
              "29    2358.207994\n",
              "30    2580.685489\n",
              "31    2765.880434\n",
              "32    2942.005573\n",
              "33    3110.868479\n",
              "34    3272.163230\n",
              "35    3443.962441\n",
              "36    3577.640664\n",
              "37    3730.884614\n",
              "38    3883.478813\n",
              "39    4009.222378\n",
              "40    4121.081379\n",
              "41    4230.122036\n",
              "42    4322.858970\n",
              "43    4390.313497\n",
              "44    4524.727626\n",
              "45    4611.545511\n",
              "dtype: float64"
            ]
          },
          "metadata": {},
          "execution_count": 58
        },
        {
          "output_type": "display_data",
          "data": {
            "text/plain": [
              "<Figure size 432x288 with 1 Axes>"
            ],
            "image/png": "[encoded data removed]"
          },
          "metadata": {
            "needs_background": "light"
          }
        }
      ]
    },
    {
      "cell_type": "markdown",
      "source": [
        "For this code, we trained our model with our central datapoint being csat as the observation, so we used KNeighbors Regressor with n_neighbors to 10 to fit our model. Our result gave us a good rmse which supports which model would be best to use to train our data. "
      ],
      "metadata": {
        "id": "BGfNKmtikQZZ"
      }
    },
    {
      "cell_type": "code",
      "source": [
        "train = df_by_state.sample(frac=.5)\n",
        "val = df_by_state.drop(train.index)\n",
        "\n",
        "X_train_dict = train[features].to_dict(orient=\"records\")\n",
        "X_val_dict = val[features].to_dict(orient=\"records\")\n",
        "\n",
        "y_train = train[\"csat\"]\n",
        "y_val = df_by_state[\"csat\"]\n",
        "\n",
        "def get_val_error(X_train_dict, y_train, X_val_dict, y_val):\n",
        "\n",
        "    # Dummy variables\n",
        "    vec = DictVectorizer(sparse=False)\n",
        "    vec.fit(X_train_dict)\n",
        "    X_train = vec.transform(X_train_dict)\n",
        "    X_val = vec.transform(X_val_dict)\n",
        "\n",
        "    # standardize \n",
        "    scaler = StandardScaler()\n",
        "    scaler.fit(X_train)\n",
        "    X_train_sc = scaler.transform(X_train)\n",
        "    X_val_sc = scaler.transform(X_val)\n",
        "\n",
        "    model = KNeighborsRegressor(n_neighbors=10)\n",
        "    model.fit(X_train_sc, y_train)\n",
        "\n",
        "    y_val_pred = model.predict(X_val_sc)\n",
        "    rmse = np.sqrt(((y_val - y_val_pred) ** 2).mean())\n",
        "\n",
        "    return rmse\n",
        "\n",
        "#Check Cross#\n",
        "def cross_val(a, b, c, d):\n",
        "  return (get_val_error(a, b, c, d) + get_val_error(c, d, a, b))/2\n",
        "\n",
        "train = df_by_state.sample(frac=.5)\n",
        "val = df_by_state.drop(train.index)\n",
        "\n",
        "X_train_dict = train[features].to_dict(orient=\"records\")\n",
        "X_val_dict = val[features].to_dict(orient=\"records\")\n",
        "\n",
        "y_train = train[\"csat\"]\n",
        "y_val = val[\"csat\"]\n",
        "\n",
        "cross_val(X_train_dict, y_train, X_val_dict, y_val)\n"
      ],
      "metadata": {
        "id": "Wo7o8Arxf2_J",
        "colab": {
          "base_uri": "https://localhost:8080/"
        },
        "outputId": "9e124a20-e983-4012-e282-f2696432a7a6"
      },
      "execution_count": null,
      "outputs": [
        {
          "output_type": "execute_result",
          "data": {
            "text/plain": [
              "38.87263016284891"
            ]
          },
          "metadata": {},
          "execution_count": 59
        }
      ]
    },
    {
      "cell_type": "markdown",
      "source": [
        "We want to organize and transform our data to compare our predictors and actual model, so fitted a 4 nearest neighbors model to see which states are closely related just based by other features but heavily focused on csat as its central point. From the graph, we can see that for our blue which is our actual: Iowa, North Dakota, and South Dakota have some of the highest distributions in the graph compared to others. Our prediction models which is the orange graph stated that while Iowa, North Dakota, and South Dakota are some of the highest, there are states that are closely related such as Louisiana, Kentucky, and Kansas. "
      ],
      "metadata": {
        "id": "54j6oI7gk5xN"
      }
    },
    {
      "cell_type": "code",
      "source": [
        "\n",
        "X_train_dict = df_by_state[features].to_dict(orient=\"records\")\n",
        "y_train = df_by_state[\"csat\"]\n",
        "\n",
        "vec = DictVectorizer(sparse=False)\n",
        "vec.fit(X_train_dict)\n",
        "X_train = vec.transform(X_train_dict)\n",
        "\n",
        "scaler = StandardScaler()\n",
        "scaler.fit(X_train)\n",
        "X_train_sc = scaler.transform(X_train)\n",
        "\n",
        "# Fit a 4-nearest neighbors model.\n",
        "model = KNeighborsRegressor(n_neighbors=4)\n",
        "model.fit(X_train_sc, y_train)\n",
        "\n",
        "# Calculate the model predictions on the training data.\n",
        "y_train_pred = model.predict(X_train_sc)\n",
        "y_train_pred\n",
        "\n",
        "dict = {'real': y_train, 'predicted': y_train_pred} \n",
        "df_graph = pd.DataFrame(dict)\n",
        "df_graph\n",
        "\n",
        "axis = df_graph.plot.bar(subplots=True,figsize=(50,10))\n",
        "type(axis)"
      ],
      "metadata": {
        "id": "Sx6NDcPd1AaT",
        "colab": {
          "base_uri": "https://localhost:8080/",
          "height": 345
        },
        "outputId": "11ece4af-4125-40e2-b1aa-f13b5658ffd0"
      },
      "execution_count": null,
      "outputs": [
        {
          "output_type": "execute_result",
          "data": {
            "text/plain": [
              "numpy.ndarray"
            ]
          },
          "metadata": {},
          "execution_count": 60
        },
        {
          "output_type": "display_data",
          "data": {
            "text/plain": [
              "<Figure size 3600x720 with 2 Axes>"
            ],
            "image/png": "[encoded data removed]"
          },
          "metadata": {
            "needs_background": "light"
          }
        }
      ]
    },
    {
      "cell_type": "markdown",
      "source": [
        "# Final Conclusion \n",
        "There are a few good predictors to predict average SAT scores for state: \n",
        "\n",
        "Negative Correlation:\n",
        "- Median household income\n",
        "- Pupil expenditure in primary and secondary school\n",
        "- % of adults having a college degree\n",
        "- % of high schoolers taking SAT\n",
        "\n",
        "Positive Correlation:\n",
        "- % of adults having a high school diploma\n",
        "\n",
        "Among them, % of high schoolers taking SAT is the strongest indicator. We believe that as top SAT states are states that are more on the rural side and there is a huge variation in terms of % of high schoolers taking SAT acorss states, there are only small percentages of high schoolers from these rural states are taking SAT. Only high-achieving and high-performance students are taking the SAT. Thus the mean SAT is high compared to states that having a large percentage of high schoolers taking the SAT.\n",
        "\n",
        "\n",
        "Our model supports our conclusion such that Iowa, South Dakota, and North Dakota have some of the highest csats given. For students in the df_by_state function, the features have furthermore supported our model into these specific states. Therefore, the distributions have justified our final conclusion that those in rural areas take the SAT are more prepared than those that are not in. \n"
      ],
      "metadata": {
        "id": "y9Mrgn0xnkfe"
      }
    }
  ],
  "metadata": {
    "colab": {
      "provenance": []
    },
    "kernelspec": {
      "display_name": "Python 3",
      "name": "python3"
    },
    "language_info": {
      "name": "python"
    }
  },
  "nbformat": 4,
  "nbformat_minor": 0
}